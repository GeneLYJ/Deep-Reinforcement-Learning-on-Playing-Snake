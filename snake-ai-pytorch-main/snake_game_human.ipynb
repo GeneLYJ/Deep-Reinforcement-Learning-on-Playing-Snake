{
 "cells": [
  {
   "cell_type": "code",
   "execution_count": 1,
   "metadata": {},
   "outputs": [
    {
     "name": "stdout",
     "output_type": "stream",
     "text": [
      "pygame 2.0.1 (SDL 2.0.14, Python 3.8.5)\n",
      "Hello from the pygame community. https://www.pygame.org/contribute.html\n"
     ]
    }
   ],
   "source": [
    "import pygame\n",
    "import random\n",
    "from enum import Enum\n",
    "from collections import namedtuple\n",
    "import time\n",
    "\n",
    "pygame.init()\n",
    "font = pygame.font.Font('arial.ttf', 25)\n",
    "#font = pygame.font.SysFont('arial', 25)\n",
    "\n",
    "class Direction(Enum):\n",
    "    RIGHT = 1\n",
    "    LEFT = 2\n",
    "    UP = 3\n",
    "    DOWN = 4\n",
    "    \n",
    "Point = namedtuple('Point', 'x, y')\n",
    "\n",
    "# rgb colors\n",
    "WHITE = (255, 255, 255)\n",
    "RED = (200,0,0)\n",
    "BLUE1 = (0, 0, 255)\n",
    "BLUE2 = (0, 100, 255)\n",
    "BLACK = (0,0,0)\n",
    "\n",
    "BLOCK_SIZE = 20\n",
    "SPEED = 20\n",
    "\n",
    "class SnakeGame:\n",
    "    \n",
    "    def __init__(self, w=360, h=240):\n",
    "        self.w = w\n",
    "        self.h = h\n",
    "        # init display\n",
    "        self.display = pygame.display.set_mode((self.w, self.h))\n",
    "        \n",
    "        array3D = pygame.surfarray.array3d(self.display)\n",
    "        #print(array3D.shape)\n",
    "        \n",
    "        pygame.display.set_caption('Snake')\n",
    "        self.clock = pygame.time.Clock()\n",
    "        \n",
    "        # init game state\n",
    "        self.direction = Direction.RIGHT\n",
    "        \n",
    "        self.head = Point(self.w/2, self.h/2)\n",
    "        self.snake = [self.head, \n",
    "                      Point(self.head.x-BLOCK_SIZE, self.head.y),\n",
    "                      Point(self.head.x-(2*BLOCK_SIZE), self.head.y)]\n",
    "        \n",
    "        self.score = 0\n",
    "        self.food = None\n",
    "        self._place_food()\n",
    "        \n",
    "    def _place_food(self):\n",
    "        x = random.randint(0, (self.w-BLOCK_SIZE )//BLOCK_SIZE )*BLOCK_SIZE \n",
    "        y = random.randint(0, (self.h-BLOCK_SIZE )//BLOCK_SIZE )*BLOCK_SIZE\n",
    "        self.food = Point(x, y)\n",
    "        if self.food in self.snake:\n",
    "            self._place_food()\n",
    "        \n",
    "    def play_step(self):\n",
    "        # 1. collect user input\n",
    "        for event in pygame.event.get():\n",
    "            if event.type == pygame.QUIT:\n",
    "                pygame.quit()\n",
    "                quit()\n",
    "            if event.type == pygame.KEYDOWN:\n",
    "                if event.key == pygame.K_LEFT:\n",
    "                    self.direction = Direction.LEFT\n",
    "                elif event.key == pygame.K_RIGHT:\n",
    "                    self.direction = Direction.RIGHT\n",
    "                elif event.key == pygame.K_UP:\n",
    "                    self.direction = Direction.UP\n",
    "                elif event.key == pygame.K_DOWN:\n",
    "                    self.direction = Direction.DOWN\n",
    "        \n",
    "        # 2. move\n",
    "        self._move(self.direction) # update the head\n",
    "        self.snake.insert(0, self.head)\n",
    "        \n",
    "        # 3. check if game over\n",
    "        game_over = False\n",
    "        if self._is_collision():\n",
    "            game_over = True\n",
    "            return game_over, self.score\n",
    "            \n",
    "        # 4. place new food or just move\n",
    "        if self.head == self.food:\n",
    "            self.score += 1\n",
    "            self._place_food()\n",
    "        else:\n",
    "            self.snake.pop()\n",
    "        \n",
    "        # 5. update ui and clock\n",
    "        array3D = self._update_ui()\n",
    "        self.clock.tick(SPEED)\n",
    "        # 6. return game over and score\n",
    "        return game_over, self.score\n",
    "    \n",
    "    def _is_collision(self):\n",
    "        # hits boundary\n",
    "        if self.head.x > self.w - BLOCK_SIZE or self.head.x < 0 or self.head.y > self.h - BLOCK_SIZE or self.head.y < 0:\n",
    "            return True\n",
    "        # hits itself\n",
    "        if self.head in self.snake[1:]:\n",
    "            return True\n",
    "        \n",
    "        return False\n",
    "        \n",
    "    def _update_ui(self):\n",
    "        self.display.fill(BLACK)\n",
    "        \n",
    "        for pt in self.snake:\n",
    "            pygame.draw.rect(self.display, BLUE1, pygame.Rect(pt.x, pt.y, BLOCK_SIZE, BLOCK_SIZE))\n",
    "            pygame.draw.rect(self.display, BLUE2, pygame.Rect(pt.x+1, pt.y+1, BLOCK_SIZE-2, BLOCK_SIZE-2))\n",
    "            \n",
    "        pygame.draw.rect(self.display, RED, pygame.Rect(self.food.x, self.food.y, BLOCK_SIZE, BLOCK_SIZE))\n",
    "        \n",
    "        text = font.render(\"Score: \" + str(self.score), True, WHITE)\n",
    "        self.display.blit(text, [0, 0])\n",
    "        \n",
    "        array3D = pygame.surfarray.array3d(self.display)\n",
    "        print(array3D.shape)\n",
    "        pygame.display.flip()\n",
    "        \n",
    "        return array3D\n",
    "        \n",
    "    def _move(self, direction):\n",
    "        x = self.head.x\n",
    "        y = self.head.y\n",
    "        if direction == Direction.RIGHT:\n",
    "            x += BLOCK_SIZE\n",
    "        elif direction == Direction.LEFT:\n",
    "            x -= BLOCK_SIZE\n",
    "        elif direction == Direction.DOWN:\n",
    "            y += BLOCK_SIZE\n",
    "        elif direction == Direction.UP:\n",
    "            y -= BLOCK_SIZE\n",
    "            \n",
    "        self.head = Point(x, y)\n",
    "            \n"
   ]
  },
  {
   "cell_type": "code",
   "execution_count": 3,
   "metadata": {},
   "outputs": [],
   "source": [
    "\n",
    "if __name__ == '__main__':\n",
    "    game = SnakeGame()\n",
    "    \n",
    "   "
   ]
  },
  {
   "cell_type": "code",
   "execution_count": null,
   "metadata": {},
   "outputs": [
    {
     "name": "stdout",
     "output_type": "stream",
     "text": [
      "(360, 240, 3)\n",
      "(360, 240, 3)\n"
     ]
    }
   ],
   "source": [
    "\n",
    "game = SnakeGame()\n",
    "#game.reset\n",
    "while True:\n",
    "    game_over, score = game.play_step()\n",
    "    array3D = game._update_ui()\n",
    "    time.sleep(10)\n",
    "    if game_over == True:\n",
    "        break\n",
    "\n",
    "print('Final Score', score)\n",
    "pygame.display.quit() \n",
    "pygame.quit()"
   ]
  },
  {
   "cell_type": "code",
   "execution_count": 3,
   "metadata": {},
   "outputs": [],
   "source": [
    "pygame.display.quit() \n",
    "\n",
    "pygame.quit()"
   ]
  },
  {
   "cell_type": "code",
   "execution_count": 3,
   "metadata": {},
   "outputs": [
    {
     "name": "stdout",
     "output_type": "stream",
     "text": [
      "(160, 210, 3)\n",
      "(210, 160, 3)\n"
     ]
    },
    {
     "data": {
      "text/plain": [
       "<matplotlib.image.AxesImage at 0x265f28f0430>"
      ]
     },
     "execution_count": 3,
     "metadata": {},
     "output_type": "execute_result"
    },
    {
     "data": {
      "image/png": "[encoded data removed]",
      "text/plain": [
       "<Figure size 432x288 with 1 Axes>"
      ]
     },
     "metadata": {
      "needs_background": "light"
     },
     "output_type": "display_data"
    }
   ],
   "source": [
    "import numpy as np\n",
    "import matplotlib.pyplot as plt\n",
    "from IPython.display import clear_output\n",
    "\n",
    "array3D\n",
    "v = np.transpose(array3D, (1,0,2))\n",
    "print(v.shape)\n",
    "print(array3D.shape)\n",
    "plt.imshow(v)"
   ]
  },
  {
   "cell_type": "code",
   "execution_count": 6,
   "metadata": {},
   "outputs": [
    {
     "name": "stdout",
     "output_type": "stream",
     "text": [
      "['__class__', '__delattr__', '__dict__', '__dir__', '__doc__', '__eq__', '__format__', '__ge__', '__getattribute__', '__gt__', '__hash__', '__init__', '__init_subclass__', '__le__', '__lt__', '__module__', '__ne__', '__new__', '__reduce__', '__reduce_ex__', '__repr__', '__setattr__', '__sizeof__', '__str__', '__subclasshook__', '__weakref__', '_is_collision', '_move', '_place_food', '_update_ui', 'clock', 'direction', 'display', 'food', 'h', 'head', 'play_step', 'reset', 'score', 'snake', 'w']\n"
     ]
    }
   ],
   "source": [
    "game.reset\n",
    "print(dir(game))"
   ]
  }
 ],
 "metadata": {
  "kernelspec": {
   "display_name": "Python 3",
   "language": "python",
   "name": "python3"
  },
  "language_info": {
   "codemirror_mode": {
    "name": "ipython",
    "version": 3
   },
   "file_extension": ".py",
   "mimetype": "text/x-python",
   "name": "python",
   "nbconvert_exporter": "python",
   "pygments_lexer": "ipython3",
   "version": "3.8.5"
  }
 },
 "nbformat": 4,
 "nbformat_minor": 4
}
