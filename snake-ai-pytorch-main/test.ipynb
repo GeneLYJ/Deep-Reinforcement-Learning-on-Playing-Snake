{
 "cells": [
  {
   "cell_type": "code",
   "execution_count": 1,
   "metadata": {},
   "outputs": [
    {
     "name": "stdout",
     "output_type": "stream",
     "text": [
      "pygame 2.0.1 (SDL 2.0.14, Python 3.8.5)\n",
      "Hello from the pygame community. https://www.pygame.org/contribute.html\n"
     ]
    }
   ],
   "source": [
    "import torch\n",
    "import random\n",
    "import numpy as np\n",
    "from collections import deque\n",
    "from game import SnakeGameAI, Direction, Point\n",
    "from model import Linear_QNet, QTrainer\n",
    "from helper import plot\n",
    "import pygame\n",
    "\n",
    "\n",
    "import math, random\n",
    "import torch.nn as nn\n",
    "import torch.optim as optim\n",
    "import torch.nn.functional as F\n",
    "import time\n",
    "\n",
    "import numpy as np\n",
    "import matplotlib.pyplot as plt\n",
    "from IPython.display import clear_output\n",
    "import keyboard"
   ]
  },
  {
   "cell_type": "markdown",
   "metadata": {},
   "source": [
    "game = SnakeGameAI()"
   ]
  },
  {
   "cell_type": "markdown",
   "metadata": {},
   "source": [
    "move = [1,1,1]\n",
    "reward, game_over, score, array3D = game.play_step(move)\n"
   ]
  },
  {
   "cell_type": "markdown",
   "metadata": {},
   "source": [
    "# RUN THIS IF YOU WANT TO UNDERSTAND ONLY\n",
    "game = SnakeGameAI()\n",
    "move = [0,0,0]\n",
    "while True:\n",
    "  \n",
    "    reward, game_over, score,array3D = game.play_step(move)\n",
    "\n",
    "    time.sleep(1)\n",
    "    if game_over == True:\n",
    "        break\n",
    "\n",
    "print('Final Score', score)\n",
    "pygame.display.quit() \n",
    "pygame.quit()\n",
    "    "
   ]
  },
  {
   "cell_type": "code",
   "execution_count": 21,
   "metadata": {},
   "outputs": [
    {
     "name": "stdout",
     "output_type": "stream",
     "text": [
      "(180, 120, 3)\n",
      "(120, 180, 3)\n"
     ]
    },
    {
     "data": {
      "text/plain": [
       "<matplotlib.image.AxesImage at 0x20a5b99a6a0>"
      ]
     },
     "execution_count": 21,
     "metadata": {},
     "output_type": "execute_result"
    },
    {
     "data": {
      "image/png": "[encoded data removed]",
      "text/plain": [
       "<Figure size 432x288 with 1 Axes>"
      ]
     },
     "metadata": {
      "needs_background": "light"
     },
     "output_type": "display_data"
    }
   ],
   "source": [
    "array3D\n",
    "print(array3D.shape)\n",
    "\n",
    "v = array3D.transpose((1,0,2))\n",
    "print(v.shape)\n",
    "\n",
    "plt.imshow(v)"
   ]
  },
  {
   "cell_type": "code",
   "execution_count": 11,
   "metadata": {},
   "outputs": [],
   "source": [
    "# RUN THIS ONLY IF YOU WANT TO CLOSE THE PYGAME WINDOW\n",
    "pygame.display.quit() \n",
    "pygame.quit()"
   ]
  },
  {
   "cell_type": "markdown",
   "metadata": {},
   "source": [
    "\n",
    "\n",
    "if __name__ == '__main__':\n",
    "    train()"
   ]
  },
  {
   "cell_type": "code",
   "execution_count": 2,
   "metadata": {},
   "outputs": [],
   "source": [
    "from collections import deque\n",
    "\n",
    "class ReplayBuffer(object):\n",
    "    def __init__(self, capacity):\n",
    "        self.buffer = deque(maxlen=capacity)\n",
    "    \n",
    "    def push(self, state, action, reward, next_state, done):\n",
    "        state      = np.expand_dims(state, 0)\n",
    "        next_state = np.expand_dims(next_state, 0)\n",
    "            \n",
    "        self.buffer.append((state, action, reward, next_state, done))\n",
    "    \n",
    "    def sample(self, batch_size):\n",
    "        state, action, reward, next_state, done = zip(*random.sample(self.buffer, batch_size))\n",
    "        return np.concatenate(state), action, reward, np.concatenate(next_state), done\n",
    "    \n",
    "    def __len__(self):\n",
    "        return len(self.buffer)"
   ]
  },
  {
   "cell_type": "code",
   "execution_count": null,
   "metadata": {},
   "outputs": [],
   "source": [
    "def compute_td_loss(batch_size):\n",
    "    state, action, reward, next_state, done = replay_buffer.sample(batch_size)\n",
    "\n",
    "    #state      = Variable(torch.FloatTensor(np.float32(state)))\n",
    "    #next_state = Variable(torch.FloatTensor(np.float32(next_state)), volatile=True)\n",
    "    #action     = Variable(torch.LongTensor(action))\n",
    "    #reward     = Variable(torch.FloatTensor(reward))\n",
    "    #done       = Variable(torch.FloatTensor(done))\n",
    "\n",
    "    q_values      = model(state)\n",
    "    next_q_values = model(next_state)\n",
    "\n",
    "    q_value          = q_values.gather(1, action.unsqueeze(1)).squeeze(1)\n",
    "    next_q_value     = next_q_values.max(1)[0]\n",
    "    expected_q_value = reward + gamma * next_q_value * (1 - done)\n",
    "    \n",
    "    loss = (q_value - Variable(expected_q_value.data)).pow(2).mean()\n",
    "        \n",
    "    optimizer.zero_grad()\n",
    "    loss.backward()\n",
    "    optimizer.step()\n",
    "    \n",
    "    return loss"
   ]
  },
  {
   "cell_type": "code",
   "execution_count": 3,
   "metadata": {},
   "outputs": [],
   "source": [
    "class CnnDQN(nn.Module):\n",
    "    def __init__(self, channels_in, num_actions):\n",
    "        super(CnnDQN, self).__init__()\n",
    "        \n",
    "        self.channels_in = channels_in\n",
    "        self.num_actions = num_actions\n",
    "        self.feature_size = 1152\n",
    "        \n",
    "        self.features = nn.Sequential(\n",
    "            nn.Conv2d(channels_in, 32, kernel_size=8, stride=4),\n",
    "            nn.ReLU(),\n",
    "            nn.Conv2d(32, 64, kernel_size=4, stride=2),\n",
    "            nn.ReLU(),\n",
    "            nn.Conv2d(64, 64, kernel_size=3, stride=1),\n",
    "            nn.ReLU(),\n",
    "            nn.MaxPool2d(kernel_size=3, stride = 3)\n",
    "        )\n",
    "        \n",
    "        self.fc = nn.Sequential(\n",
    "            nn.Linear(self.feature_size, 512),\n",
    "            nn.ReLU(),\n",
    "            nn.Linear(512, self.num_actions)\n",
    "        )\n",
    "        \n",
    "    def forward(self, x):\n",
    "        \n",
    "       \n",
    "        x = self.features(x)\n",
    "        x = x.view(x.size(0), -1)\n",
    "        x = self.fc(x)\n",
    "        return x\n",
    "    \n",
    "    "
   ]
  },
  {
   "cell_type": "markdown",
   "metadata": {},
   "source": [
    "def act(state, epsilon):\n",
    "        if random.random() > epsilon:\n",
    "            #state   = Variable(torch.FloatTensor(np.float32(state)).unsqueeze(0), volatile=True)\n",
    "            q_value = self.forward(state)\n",
    "            action  = q_value.max(1)[1].item()\n",
    "        else:\n",
    "            n = random.randrange(self.num_actions)\n",
    "            action = random.randrange(env.action_space.n)\n",
    "        return action"
   ]
  },
  {
   "cell_type": "code",
   "execution_count": 4,
   "metadata": {},
   "outputs": [],
   "source": [
    "#Set device to GPU_indx if GPU is avaliable\n",
    "GPU_indx = 0\n",
    "device = torch.device(GPU_indx if torch.cuda.is_available() else 'cpu')"
   ]
  },
  {
   "cell_type": "markdown",
   "metadata": {},
   "source": [
    "# Not needed anymore - Outdated, can straight find loss and backward pass\n",
    "USE_CUDA = torch.cuda.is_available()\n",
    "Variable = lambda *args, **kwargs: autograd.Variable(*args, **kwargs).cuda() if USE_CUDA else autograd.Variable(*args, **kwargs)"
   ]
  },
  {
   "cell_type": "code",
   "execution_count": 5,
   "metadata": {},
   "outputs": [],
   "source": [
    "channels_input = 3\n",
    "num_actions = 3\n",
    "model = CnnDQN(channels_input, num_actions).to(device) # (210, 160, 3) , (6)\n",
    "\n",
    "lr = 1e-5\n",
    "    \n",
    "optimizer = optim.Adam(model.parameters(), lr=lr)\n",
    "\n",
    "replay_initial = 10000\n",
    "replay_buffer = ReplayBuffer(100000)\n",
    "\n",
    "# Frame:\n",
    "start = 1\n",
    "total_frames = 2\n",
    "\n",
    "# start:\n",
    "game = SnakeGameAI()"
   ]
  },
  {
   "cell_type": "code",
   "execution_count": 6,
   "metadata": {},
   "outputs": [],
   "source": [
    "epsilon_start = 1.0\n",
    "epsilon_final = 0.01\n",
    "epsilon_decay = 30000\n",
    "\n",
    "epsilon_by_frame = lambda frame_idx: epsilon_final + (epsilon_start - epsilon_final) * math.exp(-1. * frame_idx / epsilon_decay)\n"
   ]
  },
  {
   "cell_type": "code",
   "execution_count": null,
   "metadata": {},
   "outputs": [],
   "source": [
    "plt.plot([epsilon_by_frame(i) for i in range(1000000)])"
   ]
  },
  {
   "cell_type": "code",
   "execution_count": 7,
   "metadata": {},
   "outputs": [
    {
     "name": "stdout",
     "output_type": "stream",
     "text": [
      "1\n",
      "Final Score 0\n"
     ]
    }
   ],
   "source": [
    "\n",
    "episode_reward = 0\n",
    "out = 0\n",
    "\n",
    "#game = SnakeGameAI()\n",
    "move = np.zeros(3).astype(np.int)\n",
    "move = move.tolist()\n",
    "_, _, _, array3D = game.play_step(move) # No.0\n",
    "for curr_frame in range(start, total_frames):\n",
    "    # later all this will be move into train_epoch function\n",
    "    state = torch.tensor(array3D.transpose((2,1,0))).unsqueeze(0) # Getting image in 4D Tensor\n",
    "    #print(state.shape)\n",
    "    \n",
    "    model.train()    # Start training\n",
    "    move = np.zeros(3).astype(np.int)\n",
    "    \n",
    "    \n",
    "    epsilon = epsilon_by_frame(curr_frame) # No. 1\n",
    "    if random.random() > epsilon:\n",
    "        #state   = Variable(torch.FloatTensor(np.float32(state)).unsqueeze(0), volatile=True)\n",
    "        state = state.float()\n",
    "        q_value = model(state.to(device))\n",
    "        action  = q_value.max(1)[1].data[0]\n",
    "    else:\n",
    "        action = random.randrange(num_actions)\n",
    "\n",
    "    move[action] = 1\n",
    "    move = move.tolist()\n",
    "    \n",
    "    reward, game_over, score, array3D = game.play_step(move) # No.2\n",
    "    next_state = torch.tensor(array3D.transpose((2,1,0))).unsqueeze(0) # Getting image in 4D Tensor\n",
    "    \n",
    "    state = next_state\n",
    "    episode_reward += reward\n",
    "    \n",
    "    # Continue .... if game_over:.....\n",
    "    \n",
    "    # hold while waiting your command:\n",
    "    out = input()\n",
    "    if (int(out) == 1):\n",
    "        break\n",
    "game.reset()\n",
    "print('Final Score', score)\n",
    "pygame.display.quit() \n",
    "pygame.quit()"
   ]
  },
  {
   "cell_type": "code",
   "execution_count": 22,
   "metadata": {},
   "outputs": [
    {
     "name": "stdout",
     "output_type": "stream",
     "text": [
      "[0, 1, 0]\n",
      "torch.Size([1, 3, 120, 180]) torch.Size([1, 3, 120, 180])\n"
     ]
    }
   ],
   "source": [
    "state = state.float()\n",
    "q_value = model(state.to(device))\n",
    "action  = q_value.max(1)[1].data[0]\n",
    "\n",
    "mv = np.zeros(3).astype(int)\n",
    "mv[action] = 1\n",
    "mv = mv.tolist()\n",
    "print(mv)\n",
    "\n",
    "print(state.shape, next_state.shape)"
   ]
  },
  {
   "cell_type": "code",
   "execution_count": 27,
   "metadata": {},
   "outputs": [
    {
     "data": {
      "text/plain": [
       "<matplotlib.image.AxesImage at 0x20a04f887f0>"
      ]
     },
     "execution_count": 27,
     "metadata": {},
     "output_type": "execute_result"
    },
    {
     "data": {
      "image/png": "[encoded data removed]",
      "text/plain": [
       "<Figure size 432x288 with 1 Axes>"
      ]
     },
     "metadata": {
      "needs_background": "light"
     },
     "output_type": "display_data"
    }
   ],
   "source": [
    "m = nn.Softmax(dim=1)\n",
    "m(q_value)\n",
    "\n",
    "img = state.cpu().detach().numpy()\n",
    "img = img.squeeze(0).transpose((1,2,0))\n",
    "plt.imshow(img/255)"
   ]
  },
  {
   "cell_type": "code",
   "execution_count": null,
   "metadata": {},
   "outputs": [],
   "source": [
    "num_frames = 10000\n",
    "batch_size = 32\n",
    "gamma      = 0.99\n",
    "\n",
    "losses = []\n",
    "all_rewards = []\n",
    "episode_reward = 0\n",
    "\n",
    "state = env.reset() # No.0\n",
    "# No.0 - play 1st frame\n",
    "# No.1 - get action from CNN\n",
    "# No.2 insert action into the game - get all things -> next state\n",
    "# No.3 push into buffer\n",
    "# No.4 current is next state\n",
    "\n",
    "for frame_idx in range(1, num_frames + 1):\n",
    "    epsilon = epsilon_by_frame(frame_idx) \n",
    "    action = model.act(state, epsilon) # No.1 - state & epsilon(random) to get action (random or learnt)\n",
    "    \n",
    "    next_state, reward, done, _ = env.step(action) # No.2\n",
    "    replay_buffer.push(state, action, reward, next_state, done) # No.3\n",
    "    \n",
    "    state = next_state # No.4\n",
    "    episode_reward += reward\n",
    "    \n",
    "    if done:\n",
    "        state = env.reset()\n",
    "        all_rewards.append(episode_reward)\n",
    "        episode_reward = 0\n",
    "        \n",
    "    if len(replay_buffer) > batch_size:\n",
    "        loss = compute_td_loss(batch_size)\n",
    "        losses.append(loss.item())\n",
    "        \n",
    "    if frame_idx % 200 == 0:\n",
    "        plot(frame_idx, all_rewards, losses)"
   ]
  },
  {
   "cell_type": "raw",
   "metadata": {},
   "source": [
    "#    x = state.float() # Tensor float (4D image)\n",
    "\n",
    "    q = model(x.to(device)) # Getting Q value / table (in softmax)\n",
    "\n",
    "    action = q.max(1)[1].data[0] # Taking max value\n",
    "    print(action)"
   ]
  }
 ],
 "metadata": {
  "kernelspec": {
   "display_name": "Python 3",
   "language": "python",
   "name": "python3"
  },
  "language_info": {
   "codemirror_mode": {
    "name": "ipython",
    "version": 3
   },
   "file_extension": ".py",
   "mimetype": "text/x-python",
   "name": "python",
   "nbconvert_exporter": "python",
   "pygments_lexer": "ipython3",
   "version": "3.8.5"
  }
 },
 "nbformat": 4,
 "nbformat_minor": 4
}
