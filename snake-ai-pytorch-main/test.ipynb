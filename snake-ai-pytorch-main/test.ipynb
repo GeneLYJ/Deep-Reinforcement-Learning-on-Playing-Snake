{
 "cells": [
  {
   "cell_type": "code",
   "execution_count": 1,
   "metadata": {},
   "outputs": [
    {
     "name": "stdout",
     "output_type": "stream",
     "text": [
      "pygame 2.0.1 (SDL 2.0.14, Python 3.8.5)\n",
      "Hello from the pygame community. https://www.pygame.org/contribute.html\n"
     ]
    }
   ],
   "source": [
    "import torch\n",
    "import random\n",
    "import numpy as np\n",
    "from collections import deque\n",
    "from game import SnakeGameAI, Direction, Point\n",
    "from helper import plot\n",
    "import pygame\n",
    "import os\n",
    "\n",
    "import math, random\n",
    "import torch.nn as nn\n",
    "import torch.optim as optim\n",
    "import torch.nn.functional as F\n",
    "import time\n",
    "\n",
    "import numpy as np\n",
    "import matplotlib.pyplot as plt\n",
    "from IPython.display import clear_output\n"
   ]
  },
  {
   "cell_type": "markdown",
   "metadata": {},
   "source": [
    "game = SnakeGameAI()"
   ]
  },
  {
   "cell_type": "markdown",
   "metadata": {},
   "source": [
    "move = [1,0,0] #list idx [0,1,2]\n",
    "reward, game_over, score, array3D = game.play_step(move) # 0, 1 or 2\n"
   ]
  },
  {
   "cell_type": "markdown",
   "metadata": {},
   "source": [
    "# RUN THIS IF YOU WANT TO UNDERSTAND ONLY\n",
    "game = SnakeGameAI()\n",
    "move = [0,0,0]\n",
    "while True:\n",
    "  \n",
    "    reward, game_over, score,array3D = game.play_step(move)\n",
    "\n",
    "    time.sleep(1)\n",
    "    if game_over == True:\n",
    "        break\n",
    "\n",
    "print('Final Score', score)\n",
    "pygame.display.quit() \n",
    "pygame.quit()\n",
    "    "
   ]
  },
  {
   "cell_type": "markdown",
   "metadata": {},
   "source": [
    "array3D\n",
    "print(array3D.shape)\n",
    "\n",
    "v = array3D.transpose((1,0,2))\n",
    "print(v.shape)\n",
    "\n",
    "plt.imshow(v)"
   ]
  },
  {
   "cell_type": "markdown",
   "metadata": {},
   "source": [
    "# RUN THIS ONLY IF YOU WANT TO CLOSE THE PYGAME WINDOW\n",
    "pygame.display.quit() \n",
    "pygame.quit()"
   ]
  },
  {
   "cell_type": "markdown",
   "metadata": {},
   "source": [
    "\n",
    "\n",
    "if __name__ == '__main__':\n",
    "    train()"
   ]
  },
  {
   "cell_type": "code",
   "execution_count": 2,
   "metadata": {},
   "outputs": [],
   "source": [
    "from collections import deque\n",
    "\n",
    "class ReplayBuffer(object):\n",
    "    def __init__(self, capacity):\n",
    "        self.buffer = deque(maxlen=capacity)\n",
    "    \n",
    "    def push(self, state, action, reward, next_state, done):\n",
    "        state      = np.expand_dims(state, 0)\n",
    "        next_state = np.expand_dims(next_state, 0)\n",
    "            \n",
    "        self.buffer.append((state, action, reward, next_state, done))\n",
    "    \n",
    "    def sample(self, batch_size):\n",
    "        state, action, reward, next_state, done = zip(*random.sample(self.buffer, batch_size))\n",
    "        return np.concatenate(state), action, reward, np.concatenate(next_state), done\n",
    "    \n",
    "    def __len__(self):\n",
    "        return len(self.buffer)"
   ]
  },
  {
   "cell_type": "code",
   "execution_count": 3,
   "metadata": {},
   "outputs": [],
   "source": [
    "def action_array(action):\n",
    "    if (action < 3):\n",
    "        move = np.zeros(3).astype(np.int)\n",
    "        move[action] = 1\n",
    "        #move = move.tolist()\n",
    "        return move.tolist()\n",
    "    else:\n",
    "        print(\"exceed number of actions\\n\")\n",
    "        return"
   ]
  },
  {
   "cell_type": "code",
   "execution_count": 4,
   "metadata": {},
   "outputs": [],
   "source": [
    "def save(model, file_name='Beta1.pth'):\n",
    "        model_folder_path = './model'\n",
    "        if not os.path.exists(model_folder_path):\n",
    "            os.makedirs(model_folder_path)\n",
    "\n",
    "        file_name = os.path.join(model_folder_path, file_name)\n",
    "        torch.save(model.state_dict(), file_name)"
   ]
  },
  {
   "cell_type": "code",
   "execution_count": 5,
   "metadata": {},
   "outputs": [],
   "source": [
    "class CnnDQN(nn.Module):\n",
    "    def __init__(self, channels_in, num_actions):\n",
    "        super(CnnDQN, self).__init__()\n",
    "        \n",
    "        self.channels_in = channels_in\n",
    "        self.num_actions = num_actions\n",
    "        self.feature_size = 256\n",
    "        \n",
    "        self.features = nn.Sequential(\n",
    "            nn.Conv2d(channels_in, 32, kernel_size=7, stride=3),\n",
    "            nn.ReLU(),\n",
    "            nn.Conv2d(32, 64, kernel_size=3, stride=3),\n",
    "            nn.ReLU(),\n",
    "            nn.Conv2d(64, 64, kernel_size=3, stride=1),\n",
    "            nn.ReLU(),\n",
    "            nn.MaxPool2d(kernel_size=3, stride = 3)\n",
    "        )\n",
    "        \n",
    "        self.fc = nn.Sequential(\n",
    "            nn.Linear(self.feature_size, 512),\n",
    "            nn.ReLU(),\n",
    "            nn.Linear(512, self.num_actions)\n",
    "        )\n",
    "        \n",
    "    def forward(self, x):\n",
    "        \n",
    "       \n",
    "        x = self.features(x)\n",
    "        x = x.view(x.size(0), -1)\n",
    "        x = self.fc(x)\n",
    "        return x\n",
    "    \n",
    "    "
   ]
  },
  {
   "cell_type": "code",
   "execution_count": 6,
   "metadata": {},
   "outputs": [],
   "source": [
    "def cropImage(state, snake_head):\n",
    "    dim = 45\n",
    "    x = snake_head[0]\n",
    "    y = snake_head[1]\n",
    "    x_arr = np.array([x-dim, x+dim])\n",
    "    y_arr = np.array([y-dim, y+dim])\n",
    "    x_lim = np.array([0, 180])\n",
    "    y_lim = np.array([0, 120])\n",
    "\n",
    "    dif_x = x_arr - x_lim\n",
    "    dif_y = y_arr - y_lim\n",
    "\n",
    "    if(dif_x[0] < 1):\n",
    "        x_arr -= dif_x[0]\n",
    "    if(dif_x[1] > -1):\n",
    "        x_arr -= (dif_x[1]+1)\n",
    "    if(dif_y[0] < 1):\n",
    "        y_arr -= dif_y[0]\n",
    "    if(dif_y[1] > -1):\n",
    "        y_arr -= (dif_y[1]+1)\n",
    "    \n",
    "    x_arr = x_arr.astype(int)\n",
    "    y_arr = y_arr.astype(int)\n",
    "    \n",
    "    state = state[:,y_arr[0]:y_arr[1]+1,x_arr[0]:x_arr[1]+1]\n",
    "    \n",
    "    return state"
   ]
  },
  {
   "cell_type": "code",
   "execution_count": 7,
   "metadata": {},
   "outputs": [],
   "source": [
    "def Loss(criterion, batch_size):\n",
    "    state, action, reward, next_state, done = replay_buffer.sample(batch_size)\n",
    "\n",
    "    state      = torch.FloatTensor(np.float32(state))\n",
    "    next_state = torch.FloatTensor(np.float32(next_state))\n",
    "    action     = torch.LongTensor(action)\n",
    "    reward     = torch.FloatTensor(reward)\n",
    "    done       = torch.FloatTensor(done)\n",
    "\n",
    "    q_values      = model(state.to(device))\n",
    "    next_q_values = model(next_state.to(device))\n",
    "\n",
    "    q_value          = q_values.gather(1, action.unsqueeze(1).to(device)).squeeze(1)\n",
    "    next_q_value     = next_q_values.max(1)[0]\n",
    "    expected_q_value = reward.to(device) + gamma * next_q_value * (1 - done.to(device))\n",
    "\n",
    "    #loss = (q_value - Variable(expected_q_value.data)).pow(2).mean()\n",
    "    loss = criterion(q_value, expected_q_value)\n",
    "\n",
    "    optimizer.zero_grad()\n",
    "    loss.backward()\n",
    "    optimizer.step()\n",
    "    \n",
    "    return loss"
   ]
  },
  {
   "cell_type": "markdown",
   "metadata": {},
   "source": [
    "def act(state, epsilon):\n",
    "        if random.random() > epsilon:\n",
    "            #state   = Variable(torch.FloatTensor(np.float32(state)).unsqueeze(0), volatile=True)\n",
    "            q_value = self.forward(state)\n",
    "            action  = q_value.max(1)[1].item()\n",
    "        else:\n",
    "            n = random.randrange(self.num_actions)\n",
    "            action = random.randrange(env.action_space.n)\n",
    "        return action"
   ]
  },
  {
   "cell_type": "code",
   "execution_count": 8,
   "metadata": {},
   "outputs": [],
   "source": [
    "#Set device to GPU_indx if GPU is avaliable\n",
    "GPU_indx = 0\n",
    "device = torch.device(GPU_indx if torch.cuda.is_available() else 'cpu')"
   ]
  },
  {
   "cell_type": "raw",
   "metadata": {},
   "source": [
    "# Not needed anymore - Outdated, can straight find loss and backward pass\n",
    "USE_CUDA = torch.cuda.is_available()\n",
    "Variable = lambda *args, **kwargs: autograd.Variable(*args, **kwargs).cuda() if USE_CUDA else autograd.Variable(*args, **kwargs)"
   ]
  },
  {
   "cell_type": "code",
   "execution_count": 9,
   "metadata": {},
   "outputs": [],
   "source": [
    "channels_input = 3\n",
    "num_actions = 3\n",
    "model = CnnDQN(channels_input, num_actions).to(device) # (180, 120, 3) , (6)\n",
    "\n",
    "lr = 5e-5\n",
    "    \n",
    "optimizer = optim.Adam(model.parameters(), lr=lr)\n",
    "criterion = nn.MSELoss()\n",
    "\n",
    "replay_initial = 500\n",
    "replay_buffer = ReplayBuffer(6000)\n",
    "\n",
    "# Frame:\n",
    "start = 1\n",
    "total_frames = 50000\n",
    "batch_size = 32\n",
    "gamma = 0.99\n",
    "\n",
    "\n",
    "# start:\n",
    "game = SnakeGameAI()"
   ]
  },
  {
   "cell_type": "code",
   "execution_count": 10,
   "metadata": {},
   "outputs": [],
   "source": [
    "epsilon_start = 0.6\n",
    "epsilon_final = 0.0005\n",
    "epsilon_decay = 50000\n",
    "\n",
    "epsilon_by_frame = lambda frame_idx: epsilon_final + (epsilon_start - epsilon_final) * math.exp(-1. * frame_idx / epsilon_decay)\n"
   ]
  },
  {
   "cell_type": "markdown",
   "metadata": {},
   "source": [
    "plt.plot([epsilon_by_frame(i) for i in range(1000000)])"
   ]
  },
  {
   "cell_type": "code",
   "execution_count": null,
   "metadata": {},
   "outputs": [
    {
     "data": {
      "text/plain": [
       "<Figure size 432x288 with 0 Axes>"
      ]
     },
     "metadata": {},
     "output_type": "display_data"
    },
    {
     "data": {
      "image/png": "[encoded data removed]",
      "text/plain": [
       "<Figure size 432x288 with 1 Axes>"
      ]
     },
     "metadata": {
      "needs_background": "light"
     },
     "output_type": "display_data"
    }
   ],
   "source": [
    "plot_scores = []\n",
    "plot_mean_scores = []\n",
    "losses = []\n",
    "loss_episode = []\n",
    "\n",
    "total_score = 0\n",
    "episode_reward = 0\n",
    "out = 0\n",
    "episode = 0\n",
    "record = 0\n",
    "\n",
    "#game = SnakeGameAI()\n",
    "move = np.zeros(3).astype(np.int)\n",
    "move = move.tolist()\n",
    "_, _, _, array3D = game.play_step(move) # No.0\n",
    "state = torch.tensor(array3D.transpose((2,1,0)))# Getting image in 4D Tensor\n",
    "state = cropImage(state, game.head)\n",
    "for curr_frame in range(start, total_frames):\n",
    "    # later all this will be move into train_epoch function\n",
    "    model.train()    # Start training\n",
    "    \n",
    "    epsilon = epsilon_by_frame(curr_frame) # No. 1\n",
    "    if random.random() > epsilon:\n",
    "        state = state.float()\n",
    "        x = state.unsqueeze(0)\n",
    "        q_value = model(x.to(device))\n",
    "        action  = q_value.max(1)[1].data[0]\n",
    "        #state = state.squeeze(0)\n",
    "    else:\n",
    "        action = random.randrange(num_actions)\n",
    "\n",
    "    move = action_array(action)\n",
    "    \n",
    "    reward, game_over, score, array3D = game.play_step(move) # No.2\n",
    "    next_state = torch.tensor(array3D.transpose((2,1,0))) # Getting image in 4D Tensor\n",
    "    next_state = cropImage(next_state, game.head)\n",
    "    replay_buffer.push(state, action, reward, next_state, game_over) # No.3\n",
    "    \n",
    "    state = next_state\n",
    "    episode_reward += reward\n",
    "    \n",
    "    # Continue .... if game_over:.....\n",
    "    if game_over:\n",
    "        game.reset()\n",
    "        episode += 1\n",
    "        #train_long_memory()\n",
    "\n",
    "        if score > record:\n",
    "            record = score\n",
    "            save(model)\n",
    "\n",
    "        print('Game', episode, 'Score', score, 'Record:', record)\n",
    "\n",
    "        plot_scores.append(score)\n",
    "        total_score += score\n",
    "        \n",
    "        mean_score = total_score / episode\n",
    "        plot_mean_scores.append(mean_score)\n",
    "        \n",
    "        loss_episode.append(np.mean(losses))\n",
    "        losses = []\n",
    "        plot(plot_scores, plot_mean_scores, loss_episode)\n",
    "    \n",
    "    if len(replay_buffer) > replay_initial:\n",
    "        loss = Loss(criterion, batch_size)\n",
    "        losses.append(loss.item())\n",
    "        \n",
    "    \n",
    "    # hold while waiting your command:\n",
    "    #out = input()\n",
    "    #if (int(out) == 1):\n",
    "    #    break\n",
    "        \n",
    "game.reset()\n",
    "print('Final Score', score)\n",
    "pygame.display.quit() \n",
    "pygame.quit()\n",
    "\n"
   ]
  },
  {
   "cell_type": "code",
   "execution_count": 27,
   "metadata": {},
   "outputs": [
    {
     "ename": "error",
     "evalue": "Library not initialized",
     "output_type": "error",
     "traceback": [
      "\u001b[1;31m---------------------------------------------------------------------------\u001b[0m",
      "\u001b[1;31merror\u001b[0m                                     Traceback (most recent call last)",
      "\u001b[1;32m<ipython-input-27-e6d15cf22fd5>\u001b[0m in \u001b[0;36m<module>\u001b[1;34m\u001b[0m\n\u001b[1;32m----> 1\u001b[1;33m \u001b[0mreward\u001b[0m\u001b[1;33m,\u001b[0m \u001b[0mgame_over\u001b[0m\u001b[1;33m,\u001b[0m \u001b[0mscore\u001b[0m\u001b[1;33m,\u001b[0m \u001b[0marray3D\u001b[0m \u001b[1;33m=\u001b[0m \u001b[0mgame\u001b[0m\u001b[1;33m.\u001b[0m\u001b[0mplay_step\u001b[0m\u001b[1;33m(\u001b[0m\u001b[0mmove\u001b[0m\u001b[1;33m)\u001b[0m \u001b[1;31m# No.2\u001b[0m\u001b[1;33m\u001b[0m\u001b[1;33m\u001b[0m\u001b[0m\n\u001b[0m\u001b[0;32m      2\u001b[0m \u001b[0mnext_state\u001b[0m \u001b[1;33m=\u001b[0m \u001b[0mtorch\u001b[0m\u001b[1;33m.\u001b[0m\u001b[0mtensor\u001b[0m\u001b[1;33m(\u001b[0m\u001b[0marray3D\u001b[0m\u001b[1;33m.\u001b[0m\u001b[0mtranspose\u001b[0m\u001b[1;33m(\u001b[0m\u001b[1;33m(\u001b[0m\u001b[1;36m2\u001b[0m\u001b[1;33m,\u001b[0m\u001b[1;36m1\u001b[0m\u001b[1;33m,\u001b[0m\u001b[1;36m0\u001b[0m\u001b[1;33m)\u001b[0m\u001b[1;33m)\u001b[0m\u001b[1;33m)\u001b[0m \u001b[1;31m# Getting image in 4D Tensor\u001b[0m\u001b[1;33m\u001b[0m\u001b[1;33m\u001b[0m\u001b[0m\n\u001b[0;32m      3\u001b[0m \u001b[0mnext_state\u001b[0m \u001b[1;33m=\u001b[0m \u001b[0mcropImage\u001b[0m\u001b[1;33m(\u001b[0m\u001b[0mnext_state\u001b[0m\u001b[1;33m,\u001b[0m \u001b[0mgame\u001b[0m\u001b[1;33m.\u001b[0m\u001b[0mhead\u001b[0m\u001b[1;33m)\u001b[0m\u001b[1;33m\u001b[0m\u001b[1;33m\u001b[0m\u001b[0m\n\u001b[0;32m      4\u001b[0m \u001b[0mprint\u001b[0m\u001b[1;33m(\u001b[0m\u001b[0mnext_state\u001b[0m\u001b[1;33m.\u001b[0m\u001b[0mshape\u001b[0m\u001b[1;33m)\u001b[0m\u001b[1;33m\u001b[0m\u001b[1;33m\u001b[0m\u001b[0m\n",
      "\u001b[1;32mD:\\Year 4\\ECE 4179\\Project\\snake-ai-pytorch-main\\game.py\u001b[0m in \u001b[0;36mplay_step\u001b[1;34m(self, action)\u001b[0m\n\u001b[0;32m     97\u001b[0m \u001b[1;33m\u001b[0m\u001b[0m\n\u001b[0;32m     98\u001b[0m         \u001b[1;31m# 5. update ui and clock\u001b[0m\u001b[1;33m\u001b[0m\u001b[1;33m\u001b[0m\u001b[1;33m\u001b[0m\u001b[0m\n\u001b[1;32m---> 99\u001b[1;33m         \u001b[0marray3D\u001b[0m \u001b[1;33m=\u001b[0m \u001b[0mself\u001b[0m\u001b[1;33m.\u001b[0m\u001b[0m_update_ui\u001b[0m\u001b[1;33m(\u001b[0m\u001b[1;33m)\u001b[0m  \u001b[1;31m# Self Added No.2\u001b[0m\u001b[1;33m\u001b[0m\u001b[1;33m\u001b[0m\u001b[0m\n\u001b[0m\u001b[0;32m    100\u001b[0m         \u001b[1;31m#self._update_ui()\u001b[0m\u001b[1;33m\u001b[0m\u001b[1;33m\u001b[0m\u001b[1;33m\u001b[0m\u001b[0m\n\u001b[0;32m    101\u001b[0m         \u001b[0mself\u001b[0m\u001b[1;33m.\u001b[0m\u001b[0mclock\u001b[0m\u001b[1;33m.\u001b[0m\u001b[0mtick\u001b[0m\u001b[1;33m(\u001b[0m\u001b[0mSPEED\u001b[0m\u001b[1;33m)\u001b[0m\u001b[1;33m\u001b[0m\u001b[1;33m\u001b[0m\u001b[0m\n",
      "\u001b[1;32mD:\\Year 4\\ECE 4179\\Project\\snake-ai-pytorch-main\\game.py\u001b[0m in \u001b[0;36m_update_ui\u001b[1;34m(self)\u001b[0m\n\u001b[0;32m    128\u001b[0m         \u001b[0mpygame\u001b[0m\u001b[1;33m.\u001b[0m\u001b[0mdraw\u001b[0m\u001b[1;33m.\u001b[0m\u001b[0mrect\u001b[0m\u001b[1;33m(\u001b[0m\u001b[0mself\u001b[0m\u001b[1;33m.\u001b[0m\u001b[0mdisplay\u001b[0m\u001b[1;33m,\u001b[0m \u001b[0mRED\u001b[0m\u001b[1;33m,\u001b[0m \u001b[0mpygame\u001b[0m\u001b[1;33m.\u001b[0m\u001b[0mRect\u001b[0m\u001b[1;33m(\u001b[0m\u001b[0mself\u001b[0m\u001b[1;33m.\u001b[0m\u001b[0mfood\u001b[0m\u001b[1;33m.\u001b[0m\u001b[0mx\u001b[0m\u001b[1;33m,\u001b[0m \u001b[0mself\u001b[0m\u001b[1;33m.\u001b[0m\u001b[0mfood\u001b[0m\u001b[1;33m.\u001b[0m\u001b[0my\u001b[0m\u001b[1;33m,\u001b[0m \u001b[0mBLOCK_SIZE\u001b[0m\u001b[1;33m,\u001b[0m \u001b[0mBLOCK_SIZE\u001b[0m\u001b[1;33m)\u001b[0m\u001b[1;33m)\u001b[0m\u001b[1;33m\u001b[0m\u001b[1;33m\u001b[0m\u001b[0m\n\u001b[0;32m    129\u001b[0m \u001b[1;33m\u001b[0m\u001b[0m\n\u001b[1;32m--> 130\u001b[1;33m         \u001b[0mtext\u001b[0m \u001b[1;33m=\u001b[0m \u001b[0mfont\u001b[0m\u001b[1;33m.\u001b[0m\u001b[0mrender\u001b[0m\u001b[1;33m(\u001b[0m\u001b[1;34m\"Score: \"\u001b[0m \u001b[1;33m+\u001b[0m \u001b[0mstr\u001b[0m\u001b[1;33m(\u001b[0m\u001b[0mself\u001b[0m\u001b[1;33m.\u001b[0m\u001b[0mscore\u001b[0m\u001b[1;33m)\u001b[0m\u001b[1;33m,\u001b[0m \u001b[1;32mTrue\u001b[0m\u001b[1;33m,\u001b[0m \u001b[0mWHITE\u001b[0m\u001b[1;33m)\u001b[0m\u001b[1;33m\u001b[0m\u001b[1;33m\u001b[0m\u001b[0m\n\u001b[0m\u001b[0;32m    131\u001b[0m \u001b[1;33m\u001b[0m\u001b[0m\n\u001b[0;32m    132\u001b[0m \u001b[1;33m\u001b[0m\u001b[0m\n",
      "\u001b[1;31merror\u001b[0m: Library not initialized"
     ]
    }
   ],
   "source": [
    "reward, game_over, score, array3D = game.play_step(move) # No.2\n",
    "next_state = torch.tensor(array3D.transpose((2,1,0))) # Getting image in 4D Tensor\n",
    "next_state = cropImage(next_state, game.head)\n",
    "print(next_state.shape)"
   ]
  },
  {
   "cell_type": "code",
   "execution_count": null,
   "metadata": {},
   "outputs": [],
   "source": []
  },
  {
   "cell_type": "code",
   "execution_count": 12,
   "metadata": {},
   "outputs": [],
   "source": [
    "#print('Final Score', score)\n",
    "pygame.display.quit() \n",
    "pygame.quit()"
   ]
  },
  {
   "cell_type": "code",
   "execution_count": 13,
   "metadata": {},
   "outputs": [
    {
     "data": {
      "text/plain": [
       "<matplotlib.image.AxesImage at 0x210b1f01c40>"
      ]
     },
     "execution_count": 13,
     "metadata": {},
     "output_type": "execute_result"
    },
    {
     "data": {
      "image/png": "[encoded data removed]",
      "text/plain": [
       "<Figure size 432x288 with 1 Axes>"
      ]
     },
     "metadata": {
      "needs_background": "light"
     },
     "output_type": "display_data"
    }
   ],
   "source": [
    "img = state.cpu().detach().numpy()\n",
    "img = img.transpose((1,2,0))\n",
    "plt.imshow(img/255)"
   ]
  },
  {
   "cell_type": "code",
   "execution_count": null,
   "metadata": {},
   "outputs": [],
   "source": [
    "num_frames = 10000\n",
    "batch_size = 32\n",
    "gamma      = 0.99\n",
    "\n",
    "losses = []\n",
    "all_rewards = []\n",
    "episode_reward = 0\n",
    "\n",
    "state = env.reset() # No.0\n",
    "# No.0 - play 1st frame\n",
    "# No.1 - get action from CNN\n",
    "# No.2 insert action into the game - get all things -> next state\n",
    "# No.3 push into buffer\n",
    "# No.4 current is next state\n",
    "\n",
    "for frame_idx in range(1, num_frames + 1):\n",
    "    epsilon = epsilon_by_frame(frame_idx) \n",
    "    action = model.act(state, epsilon) # No.1 - state & epsilon(random) to get action (random or learnt)\n",
    "    \n",
    "    next_state, reward, done, _ = env.step(action) # No.2\n",
    "    replay_buffer.push(state, action, reward, next_state, done) # No.3\n",
    "    \n",
    "    state = next_state # No.4\n",
    "    episode_reward += reward\n",
    "    \n",
    "    if done:\n",
    "        state = env.reset()\n",
    "        all_rewards.append(episode_reward)\n",
    "        episode_reward = 0\n",
    "          \n",
    "        \n",
    "\n",
    "    if len(replay_buffer) > replay_initial:\n",
    "        loss = compute_td_loss(batch_size)\n",
    "        losses.append(loss.item())\n",
    "        \n",
    "    if frame_idx % 200 == 0:\n",
    "        plot(frame_idx, all_rewards, losses)"
   ]
  }
 ],
 "metadata": {
  "kernelspec": {
   "display_name": "Python 3",
   "language": "python",
   "name": "python3"
  },
  "language_info": {
   "codemirror_mode": {
    "name": "ipython",
    "version": 3
   },
   "file_extension": ".py",
   "mimetype": "text/x-python",
   "name": "python",
   "nbconvert_exporter": "python",
   "pygments_lexer": "ipython3",
   "version": "3.8.5"
  }
 },
 "nbformat": 4,
 "nbformat_minor": 4
}
