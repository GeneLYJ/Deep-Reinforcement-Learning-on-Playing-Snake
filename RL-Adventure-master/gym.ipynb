{
 "cells": [
  {
   "cell_type": "code",
   "execution_count": 1,
   "metadata": {},
   "outputs": [],
   "source": [
    "import gym\n",
    "\n",
    "import time\n",
    "\n",
    "# 2. To check all env available, uninstalled ones are also shown\n",
    "from gym import envs \n",
    "#print(envs.registry.all())"
   ]
  },
  {
   "cell_type": "code",
   "execution_count": 5,
   "metadata": {},
   "outputs": [
    {
     "name": "stdout",
     "output_type": "stream",
     "text": [
      "['__class__', '__delattr__', '__dict__', '__dir__', '__doc__', '__enter__', '__eq__', '__exit__', '__format__', '__ge__', '__getattr__', '__getattribute__', '__gt__', '__hash__', '__init__', '__init_subclass__', '__le__', '__lt__', '__module__', '__ne__', '__new__', '__reduce__', '__reduce_ex__', '__repr__', '__setattr__', '__sizeof__', '__str__', '__subclasshook__', '__weakref__', '_elapsed_steps', '_max_episode_steps', 'action_space', 'class_name', 'close', 'compute_reward', 'env', 'metadata', 'observation_space', 'render', 'reset', 'reward_range', 'seed', 'spec', 'step', 'unwrapped']\n"
     ]
    }
   ],
   "source": [
    "env = gym.make('Pong-v0')\n",
    "print(dir(env))"
   ]
  },
  {
   "cell_type": "code",
   "execution_count": 2,
   "metadata": {},
   "outputs": [
    {
     "name": "stdout",
     "output_type": "stream",
     "text": [
      "['adventure', 'air_raid', 'alien', 'amidar', 'assault', 'asterix', 'asteroids', 'atlantis', 'bank_heist', 'battle_zone', 'beam_rider', 'berzerk', 'bowling', 'boxing', 'breakout', 'carnival', 'centipede', 'chopper_command', 'crazy_climber', 'defender', 'demon_attack', 'double_dunk', 'elevator_action', 'enduro', 'fishing_derby', 'freeway', 'frostbite', 'gopher', 'gravitar', 'hero', 'ice_hockey', 'jamesbond', 'journey_escape', 'kaboom', 'kangaroo', 'krull', 'kung_fu_master', 'montezuma_revenge', 'ms_pacman', 'name_this_game', 'phoenix', 'pitfall', 'pong', 'pooyan', 'private_eye', 'qbert', 'riverraid', 'road_runner', 'robotank', 'seaquest', 'skiing', 'solaris', 'space_invaders', 'star_gunner', 'tennis', 'time_pilot', 'tutankham', 'up_n_down', 'venture', 'video_pinball', 'wizard_of_wor', 'yars_revenge', 'zaxxon']\n"
     ]
    }
   ],
   "source": [
    "import atari_py\n",
    "print(atari_py.list_games())"
   ]
  },
  {
   "cell_type": "code",
   "execution_count": 9,
   "metadata": {},
   "outputs": [
    {
     "name": "stdout",
     "output_type": "stream",
     "text": [
      "1\n",
      "0\n",
      "0\n",
      "2\n",
      "0\n",
      "0\n"
     ]
    }
   ],
   "source": [
    "env = gym.make('Acrobot-v1')\n",
    "env.reset()\n",
    "for _ in range(5):\n",
    "    env.render()\n",
    "    env.step(env.action_space.sample())\n",
    "    print(env.action_space.sample())\n",
    "    time.sleep(1)\n",
    "env.close()\n",
    "print(env.action_space.sample())"
   ]
  },
  {
   "cell_type": "code",
   "execution_count": 4,
   "metadata": {},
   "outputs": [
    {
     "name": "stdout",
     "output_type": "stream",
     "text": [
      "(210, 160, 3)\n"
     ]
    }
   ],
   "source": [
    "print(obs.shape)"
   ]
  },
  {
   "cell_type": "code",
   "execution_count": 15,
   "metadata": {},
   "outputs": [
    {
     "name": "stdout",
     "output_type": "stream",
     "text": [
      "(210, 160, 3) 0.0 False\n",
      "(210, 160, 3) 0.0 False\n",
      "(210, 160, 3) 0.0 False\n",
      "(210, 160, 3) 0.0 False\n",
      "(210, 160, 3) 0.0 False\n",
      "(210, 160, 3) 0.0 False\n",
      "(210, 160, 3) 0.0 False\n",
      "(210, 160, 3) 0.0 False\n",
      "(210, 160, 3) 0.0 False\n",
      "(210, 160, 3) 0.0 False\n",
      "(210, 160, 3) 0.0 False\n",
      "(210, 160, 3) 0.0 False\n",
      "(210, 160, 3) 0.0 False\n",
      "(210, 160, 3) 0.0 False\n",
      "(210, 160, 3) 0.0 False\n",
      "(210, 160, 3) 0.0 False\n",
      "(210, 160, 3) 0.0 False\n",
      "(210, 160, 3) 0.0 False\n",
      "(210, 160, 3) 0.0 False\n",
      "(210, 160, 3) 0.0 False\n",
      "(210, 160, 3) 0.0 False\n",
      "(210, 160, 3) 0.0 False\n",
      "(210, 160, 3) 0.0 False\n",
      "(210, 160, 3) 0.0 False\n",
      "(210, 160, 3) 0.0 False\n",
      "(210, 160, 3) 0.0 False\n",
      "(210, 160, 3) 0.0 False\n",
      "(210, 160, 3) 0.0 False\n",
      "(210, 160, 3) 0.0 False\n",
      "(210, 160, 3) 0.0 False\n",
      "(210, 160, 3) 0.0 False\n",
      "(210, 160, 3) 0.0 False\n",
      "(210, 160, 3) 0.0 False\n",
      "(210, 160, 3) 0.0 False\n",
      "(210, 160, 3) 0.0 False\n",
      "(210, 160, 3) 0.0 False\n",
      "(210, 160, 3) 0.0 False\n",
      "(210, 160, 3) 0.0 False\n",
      "(210, 160, 3) 0.0 False\n",
      "(210, 160, 3) 0.0 False\n",
      "(210, 160, 3) 0.0 False\n",
      "(210, 160, 3) 0.0 False\n",
      "(210, 160, 3) 0.0 False\n",
      "(210, 160, 3) 0.0 False\n",
      "(210, 160, 3) 0.0 False\n",
      "(210, 160, 3) 0.0 False\n",
      "(210, 160, 3) 0.0 False\n",
      "(210, 160, 3) 0.0 False\n",
      "(210, 160, 3) 0.0 False\n",
      "(210, 160, 3) 0.0 False\n",
      "(210, 160, 3) 0.0 False\n",
      "(210, 160, 3) 0.0 False\n",
      "(210, 160, 3) 0.0 False\n",
      "(210, 160, 3) 0.0 False\n",
      "(210, 160, 3) 0.0 False\n",
      "(210, 160, 3) 0.0 False\n",
      "(210, 160, 3) 0.0 False\n",
      "(210, 160, 3) 0.0 False\n",
      "(210, 160, 3) 0.0 False\n",
      "(210, 160, 3) 0.0 False\n",
      "(210, 160, 3) 0.0 False\n",
      "(210, 160, 3) 0.0 False\n",
      "(210, 160, 3) 0.0 False\n",
      "(210, 160, 3) 0.0 False\n",
      "(210, 160, 3) 0.0 False\n",
      "(210, 160, 3) 0.0 False\n",
      "(210, 160, 3) 0.0 False\n",
      "(210, 160, 3) 0.0 False\n",
      "(210, 160, 3) 0.0 False\n",
      "(210, 160, 3) 0.0 False\n",
      "(210, 160, 3) 0.0 False\n",
      "(210, 160, 3) 0.0 False\n",
      "(210, 160, 3) 0.0 False\n",
      "(210, 160, 3) 0.0 False\n",
      "(210, 160, 3) 0.0 False\n",
      "(210, 160, 3) 0.0 False\n",
      "(210, 160, 3) 0.0 False\n",
      "(210, 160, 3) 0.0 False\n",
      "(210, 160, 3) 0.0 False\n",
      "(210, 160, 3) 0.0 False\n",
      "(210, 160, 3) 0.0 False\n",
      "(210, 160, 3) 0.0 False\n",
      "(210, 160, 3) 0.0 False\n",
      "(210, 160, 3) 0.0 False\n",
      "(210, 160, 3) 0.0 False\n",
      "(210, 160, 3) 0.0 False\n",
      "(210, 160, 3) 0.0 False\n",
      "(210, 160, 3) 0.0 False\n",
      "(210, 160, 3) 0.0 False\n",
      "(210, 160, 3) 0.0 False\n",
      "(210, 160, 3) 0.0 False\n",
      "(210, 160, 3) 0.0 False\n",
      "(210, 160, 3) 0.0 False\n",
      "(210, 160, 3) 0.0 False\n",
      "(210, 160, 3) 0.0 False\n",
      "(210, 160, 3) 0.0 False\n",
      "(210, 160, 3) 0.0 False\n",
      "(210, 160, 3) 0.0 False\n",
      "(210, 160, 3) 0.0 False\n",
      "(210, 160, 3) 0.0 False\n",
      "Box(0, 255, (210, 160, 3), uint8)\n",
      "(210, 160, 3) 0.0 False\n"
     ]
    }
   ],
   "source": [
    "import gym\n",
    "import time\n",
    "import keyboard\n",
    "\n",
    "env = gym.make('Pong-v0')\n",
    "env.reset()\n",
    "for i in range(100):\n",
    "    time.sleep(0.1)\n",
    "    env.render('human')\n",
    "    env.step(1)\n",
    "    if (i < 2):\n",
    "        obs,r,done,_ = env.step(3)\n",
    "    print(obs.shape, r, done)\n",
    "    \n",
    "\n",
    "print(env.observation_space) \n",
    "print(obs.shape,r,done)\n",
    "env.close()  # https://github.com/openai/gym/issues/893"
   ]
  },
  {
   "cell_type": "code",
   "execution_count": 10,
   "metadata": {},
   "outputs": [
    {
     "data": {
      "text/plain": [
       "True"
      ]
     },
     "execution_count": 10,
     "metadata": {},
     "output_type": "execute_result"
    }
   ],
   "source": [
    "import gym\n",
    "import atari_py\n",
    "env = gym.make(\"BreakoutNoFrameskip-v4\")\n",
    "env.reset()\n",
    "env.render()"
   ]
  },
  {
   "cell_type": "code",
   "execution_count": 7,
   "metadata": {},
   "outputs": [],
   "source": [
    "env.close()"
   ]
  }
 ],
 "metadata": {
  "kernelspec": {
   "display_name": "Python 3",
   "language": "python",
   "name": "python3"
  },
  "language_info": {
   "codemirror_mode": {
    "name": "ipython",
    "version": 3
   },
   "file_extension": ".py",
   "mimetype": "text/x-python",
   "name": "python",
   "nbconvert_exporter": "python",
   "pygments_lexer": "ipython3",
   "version": "3.8.5"
  }
 },
 "nbformat": 4,
 "nbformat_minor": 4
}
