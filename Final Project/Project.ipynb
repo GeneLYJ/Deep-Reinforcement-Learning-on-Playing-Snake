{
 "cells": [
  {
   "cell_type": "markdown",
   "metadata": {},
   "source": [
    "# DQN"
   ]
  },
  {
   "cell_type": "code",
   "execution_count": 1,
   "metadata": {},
   "outputs": [
    {
     "name": "stdout",
     "output_type": "stream",
     "text": [
      "pygame 2.0.1 (SDL 2.0.14, Python 3.8.5)\n",
      "Hello from the pygame community. https://www.pygame.org/contribute.html\n"
     ]
    }
   ],
   "source": [
    "import torch\n",
    "import random\n",
    "import numpy as np\n",
    "from collections import deque\n",
    "from game import SnakeGameAI, Direction, Point\n",
    "import pygame\n",
    "import os\n",
    "\n",
    "import math, random\n",
    "import torch.nn as nn\n",
    "import torch.optim as optim\n",
    "import torch.nn.functional as F\n",
    "import time\n",
    "\n",
    "import numpy as np\n",
    "import matplotlib.pyplot as plt\n",
    "from IPython.display import clear_output\n",
    "from IPython import display"
   ]
  },
  {
   "cell_type": "code",
   "execution_count": 2,
   "metadata": {},
   "outputs": [],
   "source": [
    "#Set device to GPU_indx if GPU is avaliable\n",
    "GPU_indx = 0\n",
    "device = torch.device(GPU_indx if torch.cuda.is_available() else 'cpu')"
   ]
  },
  {
   "cell_type": "code",
   "execution_count": 3,
   "metadata": {},
   "outputs": [],
   "source": [
    "def state(game):\n",
    "    head = game.snake[0]\n",
    "    west = Point(head.x - 20, head.y)\n",
    "    east = Point(head.x + 20, head.y)\n",
    "    north = Point(head.x, head.y - 20)\n",
    "    south = Point(head.x, head.y + 20)\n",
    "\n",
    "    left = game.direction == Direction.LEFT\n",
    "    right = game.direction == Direction.RIGHT\n",
    "    up = game.direction == Direction.UP\n",
    "    down = game.direction == Direction.DOWN\n",
    "    #print(game.snake)\n",
    "    #print(left, right, up, down)\n",
    "    \n",
    "    state = [\n",
    "        # Detect collision when moving straight\n",
    "        (right and game.is_collision(east)) or \n",
    "        (left and game.is_collision(west)) or \n",
    "        (up and game.is_collision(north)) or \n",
    "        (down and game.is_collision(south)),\n",
    "\n",
    "        # Detect collision when moving right\n",
    "        (up and game.is_collision(east)) or \n",
    "        (down and game.is_collision(west)) or \n",
    "        (left and game.is_collision(north)) or \n",
    "        (right and game.is_collision(south)),\n",
    "\n",
    "        # Detect collision when moving left\n",
    "        (down and game.is_collision(east)) or \n",
    "        (up and game.is_collision(west)) or \n",
    "        (right and game.is_collision(north)) or \n",
    "        (left and game.is_collision(south)),\n",
    "\n",
    "        # Move direction\n",
    "        left, right, up, down,\n",
    "\n",
    "        # Food location \n",
    "        game.food.x < game.head.x,  # food left\n",
    "        game.food.x > game.head.x,  # food right\n",
    "        game.food.y < game.head.y,  # food up\n",
    "        game.food.y > game.head.y  # food down\n",
    "        ]\n",
    "    #print(state)\n",
    "    return np.array(state, dtype=int)"
   ]
  },
  {
   "cell_type": "code",
   "execution_count": 4,
   "metadata": {},
   "outputs": [],
   "source": [
    "class ReplayBuffer(object):\n",
    "    def __init__(self, capacity):\n",
    "        self.memory = deque(maxlen=capacity) # popleft()\n",
    "\n",
    "    def push(self, state, next_state, action, reward, done):\n",
    "        self.memory.append((state, next_state, action, reward, done)) # popleft if MAX_MEMORY is reached\n",
    "\n",
    "    def sample(self, batch_size):\n",
    "        state, next_state, action, reward, done = zip(*random.sample(self.memory, batch_size))\n",
    "        return state, next_state, action, reward, done\n",
    "    \n",
    "    def __len__(self):\n",
    "        return len(self.memory)\n",
    "    "
   ]
  },
  {
   "cell_type": "code",
   "execution_count": 5,
   "metadata": {},
   "outputs": [],
   "source": [
    "def action_array(action, num_actions):\n",
    "    if (action < num_actions):\n",
    "        move = np.zeros(num_actions).astype(np.int)\n",
    "        move[action] = 1\n",
    "        #move = move.tolist()\n",
    "        return move.tolist()\n",
    "    else:\n",
    "        print(\"exceed number of actions\\n\")\n",
    "        return"
   ]
  },
  {
   "cell_type": "code",
   "execution_count": 6,
   "metadata": {},
   "outputs": [],
   "source": [
    "def Loss(model, criterion, optimizer, gamma, state_i, state_i_new, move, reward, done):\n",
    "    state = torch.tensor(state_i, dtype=torch.float)\n",
    "    next_state = torch.tensor(state_i_new, dtype=torch.float)\n",
    "    action = torch.tensor(move, dtype=torch.long)\n",
    "    r = torch.tensor(reward, dtype=torch.float)\n",
    "    #done = torch.FloatTensor(done)\n",
    "    # (n, x)\n",
    "    \n",
    "    if len(state.shape) == 1:\n",
    "        # (1, x)\n",
    "        state = torch.unsqueeze(state, 0)\n",
    "        next_state = torch.unsqueeze(next_state, 0)\n",
    "        action = torch.unsqueeze(action, 0)\n",
    "        r = torch.unsqueeze(r, 0)\n",
    "        done = (done, )\n",
    "\n",
    "    # 1: predicted Q values with current state\n",
    "    Q_i = model(state.to(device))\n",
    "\n",
    "    target_Q = Q_i.clone()\n",
    "    for idx in range(len(done)):\n",
    "        Q_new = r[idx]\n",
    "        if not done[idx]:\n",
    "            Q_new = r[idx].to(device) + gamma * torch.max(model(next_state[idx].to(device)))\n",
    "\n",
    "        target_Q[idx][torch.argmax(action[idx]).item()] = Q_new\n",
    "\n",
    "    # 2: Q_new = r + y * max(next_predicted Q value) -> only do this if not done\n",
    "    # pred.clone()\n",
    "    # preds[argmax(action)] = Q_new\n",
    "    optimizer.zero_grad()\n",
    "    loss = criterion(Q_i, target_Q) #!!\n",
    "    loss.backward()\n",
    "\n",
    "    optimizer.step()\n",
    "\n",
    "    return loss"
   ]
  },
  {
   "cell_type": "code",
   "execution_count": 7,
   "metadata": {},
   "outputs": [],
   "source": [
    "def plot(scores, mean_scores):\n",
    "    display.clear_output(wait=True)\n",
    "    display.display(plt.gcf())\n",
    "    plt.clf()\n",
    "    plt.title('Training')\n",
    "    plt.xlabel('Number of Episode')\n",
    "    plt.ylabel('Score')\n",
    "    plt.plot(scores)\n",
    "    plt.plot(mean_scores)\n",
    "    plt.ylim(ymin=0)\n",
    "    plt.text(len(scores)-1, scores[-1], str(scores[-1]))\n",
    "    plt.text(len(mean_scores)-1, mean_scores[-1], str(mean_scores[-1]))\n",
    "    plt.show(block=False)\n",
    "    plt.pause(.1)"
   ]
  },
  {
   "cell_type": "code",
   "execution_count": 8,
   "metadata": {},
   "outputs": [],
   "source": [
    "def save(model, file_name='Project.pth'):\n",
    "    model_folder_path = './model'\n",
    "    if not os.path.exists(model_folder_path):\n",
    "        os.makedirs(model_folder_path)\n",
    "\n",
    "    file_name = os.path.join(model_folder_path, file_name)\n",
    "    torch.save(model.state_dict(), file_name)"
   ]
  },
  {
   "cell_type": "code",
   "execution_count": 9,
   "metadata": {},
   "outputs": [],
   "source": [
    "class DQN(nn.Module):\n",
    "    def __init__(self, input_size, output_size):\n",
    "        super(DQN, self).__init__()\n",
    "        self.l = [256,128,64]\n",
    "        self.linear1 = nn.Linear(input_size, self.l[0])\n",
    "        self.linear2 = nn.Linear(self.l[0], output_size)\n",
    "\n",
    "    def forward(self, x):\n",
    "        x = F.relu(self.linear1(x))\n",
    "        x = self.linear2(x)\n",
    "        \n",
    "        return x"
   ]
  },
  {
   "cell_type": "code",
   "execution_count": 10,
   "metadata": {},
   "outputs": [],
   "source": [
    "channels_input = 11\n",
    "num_actions = 3\n",
    "model = DQN(channels_input, num_actions).to(device) # (180, 120, 3) , (6)\n",
    "\n",
    "lr = 5e-5\n",
    "    \n",
    "optimizer = optim.Adam(model.parameters(), lr=lr)\n",
    "criterion = nn.MSELoss()\n",
    "#criterion = nn.SmoothL1Loss()\n",
    "\n",
    "replay_buffer = ReplayBuffer(50000)\n",
    "\n",
    "# Frame:\n",
    "total_eps = 1000\n",
    "batch_size = 1000\n",
    "gamma = 0.99\n",
    "\n",
    "# start:\n",
    "#game = SnakeGameAI()"
   ]
  },
  {
   "cell_type": "code",
   "execution_count": 11,
   "metadata": {},
   "outputs": [
    {
     "data": {
      "text/plain": [
       "<Figure size 432x288 with 0 Axes>"
      ]
     },
     "metadata": {},
     "output_type": "display_data"
    },
    {
     "data": {
      "image/png": "[encoded data removed]",
      "text/plain": [
       "<Figure size 432x288 with 1 Axes>"
      ]
     },
     "metadata": {
      "needs_background": "light"
     },
     "output_type": "display_data"
    },
    {
     "ename": "NameError",
     "evalue": "name 'quit' is not defined",
     "output_type": "error",
     "traceback": [
      "\u001b[1;31m---------------------------------------------------------------------------\u001b[0m",
      "\u001b[1;31mNameError\u001b[0m                                 Traceback (most recent call last)",
      "\u001b[1;32m<ipython-input-11-4ee6533d61d2>\u001b[0m in \u001b[0;36m<module>\u001b[1;34m\u001b[0m\n\u001b[0;32m     35\u001b[0m     \u001b[1;31m# No.2\u001b[0m\u001b[1;33m\u001b[0m\u001b[1;33m\u001b[0m\u001b[1;33m\u001b[0m\u001b[0m\n\u001b[0;32m     36\u001b[0m     \u001b[1;31m# perform move and get new state\u001b[0m\u001b[1;33m\u001b[0m\u001b[1;33m\u001b[0m\u001b[1;33m\u001b[0m\u001b[0m\n\u001b[1;32m---> 37\u001b[1;33m     \u001b[0mreward\u001b[0m\u001b[1;33m,\u001b[0m \u001b[0mdone\u001b[0m\u001b[1;33m,\u001b[0m \u001b[0mscore\u001b[0m \u001b[1;33m=\u001b[0m \u001b[0mgame\u001b[0m\u001b[1;33m.\u001b[0m\u001b[0mplay_step\u001b[0m\u001b[1;33m(\u001b[0m\u001b[0mmove\u001b[0m\u001b[1;33m)\u001b[0m\u001b[1;33m\u001b[0m\u001b[1;33m\u001b[0m\u001b[0m\n\u001b[0m\u001b[0;32m     38\u001b[0m     \u001b[0mstate_i_new\u001b[0m \u001b[1;33m=\u001b[0m \u001b[0mstate\u001b[0m\u001b[1;33m(\u001b[0m\u001b[0mgame\u001b[0m\u001b[1;33m)\u001b[0m\u001b[1;33m\u001b[0m\u001b[1;33m\u001b[0m\u001b[0m\n\u001b[0;32m     39\u001b[0m \u001b[1;33m\u001b[0m\u001b[0m\n",
      "\u001b[1;32mD:\\Year 4\\ECE 4179\\Project\\Final Project\\game.py\u001b[0m in \u001b[0;36mplay_step\u001b[1;34m(self, action)\u001b[0m\n\u001b[0;32m     68\u001b[0m             \u001b[1;32mif\u001b[0m \u001b[0mevent\u001b[0m\u001b[1;33m.\u001b[0m\u001b[0mtype\u001b[0m \u001b[1;33m==\u001b[0m \u001b[0mpygame\u001b[0m\u001b[1;33m.\u001b[0m\u001b[0mQUIT\u001b[0m\u001b[1;33m:\u001b[0m\u001b[1;33m\u001b[0m\u001b[1;33m\u001b[0m\u001b[0m\n\u001b[0;32m     69\u001b[0m                 \u001b[0mpygame\u001b[0m\u001b[1;33m.\u001b[0m\u001b[0mquit\u001b[0m\u001b[1;33m(\u001b[0m\u001b[1;33m)\u001b[0m\u001b[1;33m\u001b[0m\u001b[1;33m\u001b[0m\u001b[0m\n\u001b[1;32m---> 70\u001b[1;33m                 \u001b[0mquit\u001b[0m\u001b[1;33m(\u001b[0m\u001b[1;33m)\u001b[0m\u001b[1;33m\u001b[0m\u001b[1;33m\u001b[0m\u001b[0m\n\u001b[0m\u001b[0;32m     71\u001b[0m \u001b[1;33m\u001b[0m\u001b[0m\n\u001b[0;32m     72\u001b[0m         \u001b[1;31m# 2. move\u001b[0m\u001b[1;33m\u001b[0m\u001b[1;33m\u001b[0m\u001b[1;33m\u001b[0m\u001b[0m\n",
      "\u001b[1;31mNameError\u001b[0m: name 'quit' is not defined"
     ]
    }
   ],
   "source": [
    "plot_scores = []\n",
    "plot_mean_scores = []\n",
    "total_score = 0\n",
    "record = 0\n",
    "game = SnakeGameAI()\n",
    "\n",
    "move = np.zeros(3).astype(np.int)\n",
    "move = move.tolist()\n",
    "#No.0\n",
    "game.play_step(move)\n",
    "\n",
    "episode = 1\n",
    "\n",
    "# No.0 - play 1st frame\n",
    "# No.1 - get action from CNN\n",
    "# No.2 insert action into the game - get all things -> next state\n",
    "# No.3 push into buffer\n",
    "# No.4 current is next state\n",
    "\n",
    "while True:\n",
    "    model.train()\n",
    "    state_i = state(game)\n",
    "    # No.1 \n",
    "    epsilon = 80 - episode\n",
    "    if random.randint(0, 200) > epsilon:\n",
    "        x = torch.tensor(state_i, dtype=torch.float)\n",
    "        q_value = model(x.to(device))\n",
    "        action  = torch.argmax(q_value).item()\n",
    "        #state = state.squeeze(0)\n",
    "    else:\n",
    "        action = random.randrange(num_actions)\n",
    "\n",
    "    move = action_array(action, num_actions)\n",
    "\n",
    "    # No.2\n",
    "    # perform move and get new state\n",
    "    reward, done, score = game.play_step(move) \n",
    "    state_i_new = state(game)\n",
    "\n",
    "    # train short memory\n",
    "    loss = Loss(model, criterion, optimizer, gamma, state_i, state_i_new, move, reward, done)\n",
    "\n",
    "    # No.3\n",
    "    # push\n",
    "    replay_buffer.push(state_i, state_i_new, move, reward, done)\n",
    "    #state_i = state_i_new #4\n",
    "    #episode_reward += reward\n",
    "\n",
    "    if done:\n",
    "        # train long memory, plot result\n",
    "        game.reset()\n",
    "        episode += 1\n",
    "\n",
    "        if len(replay_buffer) > batch_size:\n",
    "            states, next_states, actions, rewards, dones = replay_buffer.sample(batch_size)\n",
    "        else:\n",
    "            states, next_states, actions, rewards, dones = replay_buffer.sample(replay_buffer.__len__())\n",
    "\n",
    "        loss = Loss(model, criterion, optimizer, gamma, states, next_states, actions, rewards, dones)\n",
    "        #print(loss.item())\n",
    "        if score > record:\n",
    "            record = score\n",
    "            save(model)\n",
    "\n",
    "        print('Game', episode, 'Score', score, 'Record:', record)\n",
    "\n",
    "        plt.ion()\n",
    "        plot_scores.append(score)\n",
    "        total_score += score\n",
    "        mean_score = total_score / episode\n",
    "        plot_mean_scores.append(mean_score)\n",
    "        plot(plot_scores, plot_mean_scores)\n",
    "        if (episode > total_eps):\n",
    "            break\n",
    "\n",
    "#print('Final Score', score)\n",
    "pygame.display.quit() \n",
    "pygame.quit()"
   ]
  },
  {
   "cell_type": "code",
   "execution_count": 14,
   "metadata": {},
   "outputs": [],
   "source": [
    "#print('Final Score', score)\n",
    "pygame.display.quit() \n",
    "pygame.quit()"
   ]
  },
  {
   "cell_type": "markdown",
   "metadata": {},
   "source": [
    "# Load Demo"
   ]
  },
  {
   "cell_type": "code",
   "execution_count": 11,
   "metadata": {},
   "outputs": [
    {
     "data": {
      "text/plain": [
       "<All keys matched successfully>"
      ]
     },
     "execution_count": 11,
     "metadata": {},
     "output_type": "execute_result"
    }
   ],
   "source": [
    "trained_model = DQN(11,3).to(device)\n",
    "trained_model.load_state_dict(torch.load('agentP_2.pth'))"
   ]
  },
  {
   "cell_type": "code",
   "execution_count": 12,
   "metadata": {},
   "outputs": [
    {
     "data": {
      "text/plain": [
       "<Figure size 432x288 with 0 Axes>"
      ]
     },
     "metadata": {},
     "output_type": "display_data"
    },
    {
     "data": {
      "image/png": "[encoded data removed]",
      "text/plain": [
       "<Figure size 432x288 with 1 Axes>"
      ]
     },
     "metadata": {
      "needs_background": "light"
     },
     "output_type": "display_data"
    },
    {
     "ename": "NameError",
     "evalue": "name 'quit' is not defined",
     "output_type": "error",
     "traceback": [
      "\u001b[1;31m---------------------------------------------------------------------------\u001b[0m",
      "\u001b[1;31mNameError\u001b[0m                                 Traceback (most recent call last)",
      "\u001b[1;32m<ipython-input-12-a0b3f97ddcfc>\u001b[0m in \u001b[0;36m<module>\u001b[1;34m\u001b[0m\n\u001b[0;32m     25\u001b[0m     \u001b[1;31m# No.2\u001b[0m\u001b[1;33m\u001b[0m\u001b[1;33m\u001b[0m\u001b[1;33m\u001b[0m\u001b[0m\n\u001b[0;32m     26\u001b[0m     \u001b[1;31m# perform move and get new state\u001b[0m\u001b[1;33m\u001b[0m\u001b[1;33m\u001b[0m\u001b[1;33m\u001b[0m\u001b[0m\n\u001b[1;32m---> 27\u001b[1;33m     \u001b[0mreward\u001b[0m\u001b[1;33m,\u001b[0m \u001b[0mdone\u001b[0m\u001b[1;33m,\u001b[0m \u001b[0mscore\u001b[0m \u001b[1;33m=\u001b[0m \u001b[0mgame\u001b[0m\u001b[1;33m.\u001b[0m\u001b[0mplay_step\u001b[0m\u001b[1;33m(\u001b[0m\u001b[0mmove\u001b[0m\u001b[1;33m)\u001b[0m\u001b[1;33m\u001b[0m\u001b[1;33m\u001b[0m\u001b[0m\n\u001b[0m\u001b[0;32m     28\u001b[0m     \u001b[1;31m#state_i_new = state(game)\u001b[0m\u001b[1;33m\u001b[0m\u001b[1;33m\u001b[0m\u001b[1;33m\u001b[0m\u001b[0m\n\u001b[0;32m     29\u001b[0m \u001b[1;33m\u001b[0m\u001b[0m\n",
      "\u001b[1;32mD:\\Year 4\\ECE 4179\\Project\\Final Project\\game.py\u001b[0m in \u001b[0;36mplay_step\u001b[1;34m(self, action)\u001b[0m\n\u001b[0;32m     68\u001b[0m             \u001b[1;32mif\u001b[0m \u001b[0mevent\u001b[0m\u001b[1;33m.\u001b[0m\u001b[0mtype\u001b[0m \u001b[1;33m==\u001b[0m \u001b[0mpygame\u001b[0m\u001b[1;33m.\u001b[0m\u001b[0mQUIT\u001b[0m\u001b[1;33m:\u001b[0m\u001b[1;33m\u001b[0m\u001b[1;33m\u001b[0m\u001b[0m\n\u001b[0;32m     69\u001b[0m                 \u001b[0mpygame\u001b[0m\u001b[1;33m.\u001b[0m\u001b[0mquit\u001b[0m\u001b[1;33m(\u001b[0m\u001b[1;33m)\u001b[0m\u001b[1;33m\u001b[0m\u001b[1;33m\u001b[0m\u001b[0m\n\u001b[1;32m---> 70\u001b[1;33m                 \u001b[0mquit\u001b[0m\u001b[1;33m(\u001b[0m\u001b[1;33m)\u001b[0m\u001b[1;33m\u001b[0m\u001b[1;33m\u001b[0m\u001b[0m\n\u001b[0m\u001b[0;32m     71\u001b[0m \u001b[1;33m\u001b[0m\u001b[0m\n\u001b[0;32m     72\u001b[0m         \u001b[1;31m# 2. move\u001b[0m\u001b[1;33m\u001b[0m\u001b[1;33m\u001b[0m\u001b[1;33m\u001b[0m\u001b[0m\n",
      "\u001b[1;31mNameError\u001b[0m: name 'quit' is not defined"
     ]
    }
   ],
   "source": [
    "plot_scores = []\n",
    "plot_mean_scores = []\n",
    "total_score = 0\n",
    "record = 0\n",
    "episode = 1\n",
    "total_eps = 10\n",
    "\n",
    "trained_model.eval()\n",
    "game = SnakeGameAI()\n",
    "\n",
    "move = np.zeros(3).astype(np.int)\n",
    "move = move.tolist()\n",
    "#No.0\n",
    "game.play_step(move)\n",
    "\n",
    "#episode = 1\n",
    "while True:\n",
    "    state_i = state(game)\n",
    "    x = torch.tensor(state_i, dtype=torch.float)\n",
    "    q_value = trained_model(x.to(device))\n",
    "    action  = torch.argmax(q_value).item()\n",
    "    \n",
    "    move = action_array(action, 3)\n",
    "\n",
    "    # No.2\n",
    "    # perform move and get new state\n",
    "    reward, done, score = game.play_step(move) \n",
    "    #state_i_new = state(game)\n",
    "    \n",
    "    if done:\n",
    "        game.reset()\n",
    "        episode += 1         \n",
    "        if score > record:\n",
    "            record = score\n",
    "\n",
    "        print('Game', episode, 'Score', score, 'Record:', record)\n",
    "\n",
    "        plt.ion()\n",
    "        plot_scores.append(score)\n",
    "        total_score += score\n",
    "        mean_score = total_score / episode\n",
    "        plot_mean_scores.append(mean_score)\n",
    "        plot(plot_scores, plot_mean_scores)\n",
    "        if (episode > total_eps):\n",
    "            break"
   ]
  },
  {
   "cell_type": "code",
   "execution_count": null,
   "metadata": {},
   "outputs": [],
   "source": []
  }
 ],
 "metadata": {
  "kernelspec": {
   "display_name": "Python 3",
   "language": "python",
   "name": "python3"
  },
  "language_info": {
   "codemirror_mode": {
    "name": "ipython",
    "version": 3
   },
   "file_extension": ".py",
   "mimetype": "text/x-python",
   "name": "python",
   "nbconvert_exporter": "python",
   "pygments_lexer": "ipython3",
   "version": "3.8.5"
  }
 },
 "nbformat": 4,
 "nbformat_minor": 4
}
